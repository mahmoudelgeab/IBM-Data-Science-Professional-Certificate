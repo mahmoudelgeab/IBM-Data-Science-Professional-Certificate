{
 "cells": [
  {
   "cell_type": "markdown",
   "id": "3369bb54-a135-4b3c-8ac6-2640910e42e9",
   "metadata": {},
   "source": [
    "# Data Science Tools and Ecosystem"
   ]
  },
  {
   "cell_type": "markdown",
   "id": "6c840d12-d9ac-4211-9a2e-4df01c8ce58d",
   "metadata": {},
   "source": [
    "In this notebook, Data Science Tools and Ecosystem are summarized."
   ]
  },
  {
   "cell_type": "markdown",
   "id": "a7c91c11-6675-455f-a059-3c784ab73ef7",
   "metadata": {},
   "source": [
    "__Objectives__\n",
    "\n",
    "* Popular languages\n",
    "* Popular libraries\n",
    "* Tools\n",
    "* Arithmetic Expressions"
   ]
  },
  {
   "cell_type": "markdown",
   "id": "100fb1d5-8109-44aa-ab32-b9e57956f603",
   "metadata": {},
   "source": [
    "Data Science popular languages: \n",
    "1. Python\n",
    "2. SQL\n",
    "3. R\n",
    "4. Java"
   ]
  },
  {
   "cell_type": "markdown",
   "id": "a96eec74-31e8-49fc-9fc6-fc86b5c0607d",
   "metadata": {},
   "source": [
    "Data Science common libraries\n",
    "1. Matplotlib\n",
    "2. NumPy\n",
    "3. Pandas"
   ]
  },
  {
   "cell_type": "markdown",
   "id": "7635efc6-d684-45af-91a8-97b5aec36e90",
   "metadata": {
    "tags": []
   },
   "source": [
    "| Data Science Tools |\n",
    "| -------- |\n",
    "| Visual Studio Code |\n",
    "| Spyder |\n",
    "| Jupyter Notebooks |"
   ]
  },
  {
   "cell_type": "markdown",
   "id": "b961d9da-42b8-4834-aea0-2162656789d7",
   "metadata": {},
   "source": [
    "### Arithmetic Expressions examples:\n",
    "\n",
    "x = 4\n",
    "\n",
    "y = 2\n",
    "\n",
    "subtraction = x - y\n",
    "\n",
    "division = x / y\n",
    "\n",
    "print(\"The difference between x and y is: \", subtraction)\n",
    "\n",
    "print(\"The division of x and y is: \", division)"
   ]
  },
  {
   "cell_type": "code",
   "execution_count": 13,
   "id": "77df2722-8c2e-4f0b-87ec-54a9c93cb383",
   "metadata": {
    "tags": []
   },
   "outputs": [
    {
     "name": "stdout",
     "output_type": "stream",
     "text": [
      "17\n"
     ]
    }
   ],
   "source": [
    "# Arithmetic expression of multiplication and addition\n",
    "x = (3*4)+5\n",
    "print(x)"
   ]
  },
  {
   "cell_type": "code",
   "execution_count": 14,
   "id": "e85c6040-e308-4193-9e6e-4636cc8fe730",
   "metadata": {
    "tags": []
   },
   "outputs": [
    {
     "name": "stdout",
     "output_type": "stream",
     "text": [
      "3.3333333333333335\n"
     ]
    }
   ],
   "source": [
    "# Convert 200 min to hrs\n",
    "\n",
    "x = 200\n",
    "\n",
    "y = 60\n",
    "\n",
    "b = x / y\n",
    "print(b)"
   ]
  },
  {
   "cell_type": "markdown",
   "id": "29dd5847-5421-45c0-b09a-362b49eb9eef",
   "metadata": {},
   "source": [
    "## Text Author\n",
    "Mahmoud Elgeab"
   ]
  }
 ],
 "metadata": {
  "kernelspec": {
   "display_name": "Python",
   "language": "python",
   "name": "conda-env-python-py"
  },
  "language_info": {
   "codemirror_mode": {
    "name": "ipython",
    "version": 3
   },
   "file_extension": ".py",
   "mimetype": "text/x-python",
   "name": "python",
   "nbconvert_exporter": "python",
   "pygments_lexer": "ipython3",
   "version": "3.7.12"
  }
 },
 "nbformat": 4,
 "nbformat_minor": 5
}
